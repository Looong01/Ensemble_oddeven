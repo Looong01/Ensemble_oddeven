{
 "cells": [
  {
   "cell_type": "code",
   "execution_count": 1,
   "id": "ce816884-5649-4ec4-bb00-487a17dbc94f",
   "metadata": {},
   "outputs": [
    {
     "data": {
      "text/plain": [
       "'/root/autodl-tmp/Ensemble_oddeven/script'"
      ]
     },
     "execution_count": 25,
     "metadata": {},
     "output_type": "execute_result"
    }
   ],
   "source": [
    "import os\n",
    "os.getcwd()"
   ]
  },
  {
   "cell_type": "code",
   "execution_count": 2,
   "id": "0693397b-e91b-422e-a868-8e2d8130b85d",
   "metadata": {},
   "outputs": [],
   "source": [
    "batch_size=32\n",
    "epochs = 5"
   ]
  },
  {
   "cell_type": "code",
   "execution_count": 3,
   "id": "9acf6262-1bd6-4f6b-b028-45e1813686e2",
   "metadata": {},
   "outputs": [],
   "source": [
    "import numpy as np\n",
    "import torch\n",
    "from torchvision import transforms, datasets, models\n",
    "from torch.utils.data import DataLoader, Dataset,TensorDataset\n",
    "from torch import nn\n",
    "import torch.optim as optim\n",
    "from sklearn.metrics import roc_auc_score, accuracy_score\n",
    "import torch.nn.functional as F\n",
    "import tqdm\n",
    "import math\n",
    "from Model import *\n",
    "from Myloader import *\n",
    "from Training import *\n",
    "from utils import *\n",
    "from Myloader import *\n",
    "import matplotlib.pyplot as plt"
   ]
  },
  {
   "cell_type": "code",
   "execution_count": 4,
   "id": "0469b6f7-9e41-4f6f-bac2-09e3f8a172bc",
   "metadata": {},
   "outputs": [],
   "source": [
    "test_path = \"../data/test\""
   ]
  },
  {
   "cell_type": "code",
   "execution_count": 5,
   "id": "9da58611-367e-4b57-9a1b-e124ba99a50d",
   "metadata": {},
   "outputs": [],
   "source": [
    "decision_model = torch.load(\"../model/classifier.pt\")\n",
    "confidence_model = torch.load(\"../model/meta.pt\")"
   ]
  },
  {
   "cell_type": "code",
   "execution_count": 6,
   "id": "99297338-4791-4cd8-8319-8c714e197177",
   "metadata": {},
   "outputs": [],
   "source": [
    "transform = transforms.Compose([\n",
    "    transforms.ToPILImage(),\n",
    "    transforms.Grayscale(num_output_channels=1),\n",
    "    transforms.ToTensor()])"
   ]
  },
  {
   "cell_type": "code",
   "execution_count": 7,
   "id": "c304f501-1fb0-492f-9ec3-46d6afd6be2c",
   "metadata": {},
   "outputs": [],
   "source": [
    "\n",
    "test_dataset = CustomDataset(test_path, transform=transform)\n",
    "test_data_loader = DataLoader(test_dataset, batch_size=len(test_dataset), shuffle=False)"
   ]
  },
  {
   "cell_type": "code",
   "execution_count": 8,
   "id": "4f14079a-fb13-4fa6-b7f6-9ce1c9203d6b",
   "metadata": {},
   "outputs": [
    {
     "data": {
      "text/plain": [
       "240"
      ]
     },
     "execution_count": 8,
     "metadata": {},
     "output_type": "execute_result"
    }
   ],
   "source": [
    "len(test_dataset)"
   ]
  },
  {
   "cell_type": "code",
   "execution_count": 9,
   "id": "335cec7f-6a6d-4998-9ec5-008815b47d3b",
   "metadata": {},
   "outputs": [
    {
     "data": {
      "text/plain": [
       "CNN(\n",
       "  (features): ModuleList(\n",
       "    (0): ConvBN2d(\n",
       "      (conv): Conv2d(1, 16, kernel_size=(7, 7), stride=(1, 1), padding=(3, 3))\n",
       "      (features): Sequential(\n",
       "        (0): ReLU(inplace=True)\n",
       "        (1): BatchNorm2d(16, eps=1e-05, momentum=0.1, affine=True, track_running_stats=True)\n",
       "      )\n",
       "    )\n",
       "    (1): ConvBN2d(\n",
       "      (conv): Conv2d(16, 16, kernel_size=(5, 5), stride=(1, 1), padding=(2, 2))\n",
       "      (features): Sequential(\n",
       "        (0): ReLU(inplace=True)\n",
       "        (1): BatchNorm2d(16, eps=1e-05, momentum=0.1, affine=True, track_running_stats=True)\n",
       "      )\n",
       "    )\n",
       "    (2): MaxPool2d(kernel_size=2, stride=2, padding=0, dilation=1, ceil_mode=False)\n",
       "    (3): ConvBN2d(\n",
       "      (conv): Conv2d(16, 32, kernel_size=(3, 3), stride=(1, 1), padding=(1, 1))\n",
       "      (features): Sequential(\n",
       "        (0): ReLU(inplace=True)\n",
       "        (1): BatchNorm2d(32, eps=1e-05, momentum=0.1, affine=True, track_running_stats=True)\n",
       "      )\n",
       "    )\n",
       "    (4): ConvBN2d(\n",
       "      (conv): Conv2d(32, 32, kernel_size=(3, 3), stride=(1, 1), padding=(1, 1))\n",
       "      (features): Sequential(\n",
       "        (0): ReLU(inplace=True)\n",
       "        (1): BatchNorm2d(32, eps=1e-05, momentum=0.1, affine=True, track_running_stats=True)\n",
       "      )\n",
       "    )\n",
       "    (5): MaxPool2d(kernel_size=2, stride=2, padding=0, dilation=1, ceil_mode=False)\n",
       "    (6): ConvBN2d(\n",
       "      (conv): Conv2d(32, 64, kernel_size=(3, 3), stride=(1, 1), padding=(1, 1))\n",
       "      (features): Sequential(\n",
       "        (0): ReLU(inplace=True)\n",
       "        (1): BatchNorm2d(64, eps=1e-05, momentum=0.1, affine=True, track_running_stats=True)\n",
       "      )\n",
       "    )\n",
       "    (7): ConvBN2d(\n",
       "      (conv): Conv2d(64, 64, kernel_size=(3, 3), stride=(1, 1), padding=(1, 1))\n",
       "      (features): Sequential(\n",
       "        (0): ReLU(inplace=True)\n",
       "        (1): BatchNorm2d(64, eps=1e-05, momentum=0.1, affine=True, track_running_stats=True)\n",
       "      )\n",
       "    )\n",
       "    (8): MaxPool2d(kernel_size=2, stride=2, padding=0, dilation=1, ceil_mode=False)\n",
       "  )\n",
       "  (classifier): Sequential(\n",
       "    (0): Flatten(start_dim=1, end_dim=-1)\n",
       "    (1): Linear(in_features=3136, out_features=256, bias=True)\n",
       "    (2): Linear(in_features=256, out_features=3, bias=True)\n",
       "  )\n",
       ")"
      ]
     },
     "execution_count": 9,
     "metadata": {},
     "output_type": "execute_result"
    }
   ],
   "source": [
    "decision_model = CNN()\n",
    "decision_model.load_state_dict(torch.load(\"../model/classifier.pt\"))\n",
    "decision_model.eval()"
   ]
  },
  {
   "cell_type": "code",
   "execution_count": 10,
   "id": "2fe68334-860e-495a-990e-ebc27a8e06d4",
   "metadata": {},
   "outputs": [
    {
     "data": {
      "text/plain": [
       "Confidence(\n",
       "  (fc1): Linear(in_features=6, out_features=1, bias=True)\n",
       ")"
      ]
     },
     "execution_count": 10,
     "metadata": {},
     "output_type": "execute_result"
    }
   ],
   "source": [
    "confidence_model = Confidence(6, 1)\n",
    "confidence_model.load_state_dict(torch.load(\"../model/meta.pt\"))\n",
    "confidence_model.eval()"
   ]
  },
  {
   "cell_type": "code",
   "execution_count": 11,
   "id": "73c362c2-74f7-40f8-9081-de609ce1a1cc",
   "metadata": {},
   "outputs": [],
   "source": [
    "for epoch in range(epochs):\n",
    "    #训练\n",
    "    print('--------------------------------------------------------------------------------------------------------------------------')\n",
    "    print('Epoch: {}/{} || train Loss: {:.4}'.format(epoch + 1, args.nepoch, trainloss))\n",
    "    #验证\n",
    "    valloss, acc1, roc1, acc2, roc2, acc3, roc3 = val_epoch_meta(model1, model2, train_data_loader, device)\n",
    "    print('Epoch: {}/{} || val Loss: {:.4} || acc1: {:.3} || roc1: {:.3} || acc2: {:.3} || roc2: {:.3}|| acc3: {:.3} || roc3: {:.3}'.format(epoch + 1, args.nepoch, valloss, acc1, roc1, acc2, roc2, acc3, roc3))"
   ]
  },
  {
   "cell_type": "code",
   "execution_count": 12,
   "id": "55033d6c-1e8e-44c1-a9e6-048150a1bd13",
   "metadata": {},
   "outputs": [],
   "source": [
    "device = torch.device('cuda:0' if torch.cuda.is_available() else 'cpu')"
   ]
  },
  {
   "cell_type": "code",
   "execution_count": 13,
   "id": "1a502511-71d8-44c8-9565-9089d0563946",
   "metadata": {},
   "outputs": [],
   "source": [
    "all_files_name1, all_files_name2, all_batch_labels1, all_batch_labels2, all_batch_labels3, all_batch_preds1, all_batch_preds2, all_preds3_sig, val_preds_idx1, val_preds_idx2, val_preds_idx3 = test_epoch_meta(decision_model, confidence_model, \n",
    "test_data_loader, device) "
   ]
  },
  {
   "cell_type": "code",
   "execution_count": 14,
   "id": "c0cd7586-c492-42a5-b9ef-3086f82857fb",
   "metadata": {},
   "outputs": [
    {
     "data": {
      "text/plain": [
       "(array([1, 0, 2, 2, 1, 2, 0, 0, 2, 2, 0, 2, 0, 1, 1, 1, 2, 0, 0, 2, 1, 0,\n",
       "        2, 2, 2, 2, 2, 2, 2, 1, 1, 2, 1, 0, 0, 0, 2, 1, 0, 0, 2, 0, 2, 1,\n",
       "        2, 0, 1, 0, 0, 2, 2, 2, 2, 2, 1, 2, 2, 2, 2, 1, 0, 2, 2, 2, 2, 2,\n",
       "        0, 0, 2, 1, 2, 1, 0, 1, 0, 1, 1, 0, 0, 2, 2, 1, 2, 1, 0, 0, 2, 2,\n",
       "        1, 2, 0, 1, 1, 1, 2, 1, 0, 2, 2, 1, 0, 0, 2, 2, 2, 0, 2, 2, 0, 0,\n",
       "        1, 0, 2, 0, 0, 0, 0, 1, 2, 2, 2, 2, 0, 2, 2, 2, 0, 2, 2, 2, 0, 2,\n",
       "        1, 2, 2, 2, 0, 0, 0, 1, 1, 0, 0, 2, 2, 0, 0, 0, 0, 2, 2, 2, 0, 0,\n",
       "        0, 2, 2, 2, 2, 2, 2, 2, 2, 2, 2, 1, 1, 2, 2, 2, 1, 2, 2, 2, 1, 2,\n",
       "        2, 0, 2, 1, 2, 0, 2, 0, 0, 0, 1, 1, 2, 2, 2, 0, 0, 0, 2, 2, 1, 0,\n",
       "        0, 2, 2, 2, 2, 0, 0, 1, 0, 2, 2, 1, 2, 2, 2, 1, 2, 2, 2, 0, 2, 1,\n",
       "        2, 2, 2, 2, 1, 2, 0, 0, 2, 2, 2, 2, 2, 2, 0, 1, 2, 0, 0, 0]),\n",
       " array([2, 1, 2, 2, 2, 1, 0, 0, 2, 2, 1, 1, 2, 2, 2, 2, 0, 0, 2, 1, 2, 0,\n",
       "        1, 1, 0, 2, 2, 0, 0, 2, 1, 0, 0, 2, 0, 0, 2, 2, 0, 2, 2, 2, 0, 0,\n",
       "        0, 2, 0, 2, 0, 1, 1, 2, 0, 2, 2, 1, 2, 0, 2, 2, 2, 0, 0, 2, 0, 2,\n",
       "        2, 1, 2, 2, 0, 2, 0, 2, 2, 2, 2, 0, 2, 0, 1, 0, 2, 2, 2, 2, 2, 0,\n",
       "        2, 0, 2, 2, 1, 2, 2, 2, 1, 0, 0, 2, 1, 0, 2, 1, 0, 0, 0, 0, 2, 2,\n",
       "        0, 2, 0, 0, 2, 2, 2, 2, 0, 2, 0, 2, 2, 0, 2, 0, 2, 1, 0, 2, 2, 2,\n",
       "        0, 0, 0, 2, 0, 0, 2, 0, 2, 2, 0, 0, 1, 1, 2, 2, 2, 2, 0, 2, 2, 2,\n",
       "        2, 1, 2, 1, 0, 1, 2, 2, 2, 0, 0, 2, 2, 0, 2, 0, 0, 2, 2, 2, 2, 1,\n",
       "        0, 2, 2, 2, 2, 2, 2, 2, 2, 0, 0, 2, 0, 2, 0, 2, 2, 2, 2, 0, 2, 0,\n",
       "        2, 2, 2, 2, 0, 2, 2, 2, 2, 2, 0, 2, 0, 1, 1, 2, 1, 0, 2, 0, 0, 2,\n",
       "        2, 2, 0, 0, 2, 1, 2, 0, 0, 1, 1, 1, 1, 0, 0, 0, 0, 1, 2, 2]),\n",
       " array([0., 0., 0., 0., 0., 1., 1., 0., 0., 1., 1., 1., 1., 0., 0., 0., 1.,\n",
       "        0., 0., 0., 0., 1., 0., 0., 1., 1., 0., 1., 1., 0., 0., 0., 0., 0.,\n",
       "        0., 1., 1., 1., 0., 0., 0., 0., 0., 1., 1., 0., 1., 0., 1., 0., 1.,\n",
       "        1., 1., 1., 0., 1., 1., 1., 1., 1., 0., 1., 1., 0., 1., 1., 0., 1.,\n",
       "        1., 1., 1., 0., 1., 1., 0., 0., 0., 0., 0., 1., 1., 0., 1., 0., 0.,\n",
       "        0., 1., 1., 0., 1., 0., 1., 0., 1., 0., 0., 1., 1., 1., 1., 0., 0.,\n",
       "        0., 0., 1., 0., 1., 1., 0., 0., 1., 0., 0., 1., 0., 0., 0., 1., 1.,\n",
       "        1., 0., 1., 0., 0., 1., 1., 1., 1., 1., 0., 0., 0., 1., 1., 1., 0.,\n",
       "        0., 0., 0., 0., 1., 0., 0., 0., 1., 0., 0., 0., 0., 1., 1., 0., 1.,\n",
       "        0., 0., 1., 0., 1., 0., 0., 1., 0., 0., 1., 1., 0., 0., 1., 0., 1.,\n",
       "        0., 1., 1., 0., 0., 0., 1., 0., 1., 0., 1., 0., 0., 0., 1., 1., 1.,\n",
       "        0., 0., 0., 1., 0., 0., 0., 1., 1., 0., 0., 0., 1., 0., 1., 1., 1.,\n",
       "        0., 0., 0., 1., 1., 0., 1., 0., 1., 1., 0., 1., 0., 1., 1., 0., 0.,\n",
       "        1., 1., 1., 1., 1., 0., 0., 1., 1., 0., 1., 0., 0., 1., 1., 1., 1.,\n",
       "        0., 0.]))"
      ]
     },
     "execution_count": 14,
     "metadata": {},
     "output_type": "execute_result"
    }
   ],
   "source": [
    "all_files_name1, all_files_name2, all_batch_labels1, all_batch_labels2, \n",
    "all_batch_labels3, all_batch_preds1, all_batch_preds2, all_preds3_sig, \n",
    "val_preds_idx1, val_preds_idx2, val_preds_idx3"
   ]
  },
  {
   "cell_type": "code",
   "execution_count": 15,
   "id": "e3ae2a47-78c8-4765-94da-e55f512057b3",
   "metadata": {},
   "outputs": [
    {
     "data": {
      "text/plain": [
       "(480,)"
      ]
     },
     "execution_count": 15,
     "metadata": {},
     "output_type": "execute_result"
    }
   ],
   "source": [
    "np.concatenate((val_preds_idx1, val_preds_idx2)).shape"
   ]
  },
  {
   "cell_type": "code",
   "execution_count": 16,
   "id": "c5199484-6ab3-4291-9ef7-aeeb022ba5a8",
   "metadata": {},
   "outputs": [],
   "source": [
    "import numpy as np\n",
    "import pandas as pd\n",
    "np.argmax(all_batch_preds1, axis=1)\n",
    "# 合并numpy数组\n",
    "all_batch_labels = np.concatenate((all_batch_labels1, all_batch_labels2))\n",
    "val_preds_idx = np.concatenate((val_preds_idx1, val_preds_idx2))\n",
    "all_files_name = all_files_name1 + all_files_name2\n",
    "\n",
    "# 创建数据框\n",
    "df = pd.DataFrame({\n",
    "    'all_files_name': all_files_name,\n",
    "    'all_batch_labels': all_batch_labels,\n",
    "    'val_preds_idx': val_preds_idx\n",
    "})"
   ]
  },
  {
   "cell_type": "code",
   "execution_count": 17,
   "id": "cc9866ae-4a87-4e66-a76e-00dd23b32b08",
   "metadata": {},
   "outputs": [],
   "source": [
    "df['correct_response'] = (df['all_batch_labels'] == df['val_preds_idx']).astype(int)"
   ]
  },
  {
   "cell_type": "code",
   "execution_count": 19,
   "id": "c84f08a7-1361-4fd9-9cc9-dec93aa20ab8",
   "metadata": {},
   "outputs": [
    {
     "data": {
      "text/html": [
       "<div>\n",
       "<style scoped>\n",
       "    .dataframe tbody tr th:only-of-type {\n",
       "        vertical-align: middle;\n",
       "    }\n",
       "\n",
       "    .dataframe tbody tr th {\n",
       "        vertical-align: top;\n",
       "    }\n",
       "\n",
       "    .dataframe thead th {\n",
       "        text-align: right;\n",
       "    }\n",
       "</style>\n",
       "<table border=\"1\" class=\"dataframe\">\n",
       "  <thead>\n",
       "    <tr style=\"text-align: right;\">\n",
       "      <th></th>\n",
       "      <th>all_files_name</th>\n",
       "      <th>all_batch_labels</th>\n",
       "      <th>val_preds_idx</th>\n",
       "      <th>correct_response</th>\n",
       "      <th>split_values</th>\n",
       "      <th>even_num</th>\n",
       "      <th>noise</th>\n",
       "    </tr>\n",
       "  </thead>\n",
       "  <tbody>\n",
       "    <tr>\n",
       "      <th>0</th>\n",
       "      <td>2_0_1315_0.5.jpg</td>\n",
       "      <td>2</td>\n",
       "      <td>1</td>\n",
       "      <td>0</td>\n",
       "      <td>[2, 0, 1315, 0.5]</td>\n",
       "      <td>2</td>\n",
       "      <td>0.5</td>\n",
       "    </tr>\n",
       "    <tr>\n",
       "      <th>1</th>\n",
       "      <td>2_0_435_0.5.jpg</td>\n",
       "      <td>2</td>\n",
       "      <td>0</td>\n",
       "      <td>0</td>\n",
       "      <td>[2, 0, 435, 0.5]</td>\n",
       "      <td>2</td>\n",
       "      <td>0.5</td>\n",
       "    </tr>\n",
       "    <tr>\n",
       "      <th>2</th>\n",
       "      <td>2_0_319_0.jpg</td>\n",
       "      <td>2</td>\n",
       "      <td>2</td>\n",
       "      <td>1</td>\n",
       "      <td>[2, 0, 319, 0]</td>\n",
       "      <td>2</td>\n",
       "      <td>0</td>\n",
       "    </tr>\n",
       "    <tr>\n",
       "      <th>3</th>\n",
       "      <td>3_0_929_0.jpg</td>\n",
       "      <td>1</td>\n",
       "      <td>2</td>\n",
       "      <td>0</td>\n",
       "      <td>[3, 0, 929, 0]</td>\n",
       "      <td>3</td>\n",
       "      <td>0</td>\n",
       "    </tr>\n",
       "    <tr>\n",
       "      <th>4</th>\n",
       "      <td>3_0_660_0.5.jpg</td>\n",
       "      <td>1</td>\n",
       "      <td>1</td>\n",
       "      <td>1</td>\n",
       "      <td>[3, 0, 660, 0.5]</td>\n",
       "      <td>3</td>\n",
       "      <td>0.5</td>\n",
       "    </tr>\n",
       "    <tr>\n",
       "      <th>...</th>\n",
       "      <td>...</td>\n",
       "      <td>...</td>\n",
       "      <td>...</td>\n",
       "      <td>...</td>\n",
       "      <td>...</td>\n",
       "      <td>...</td>\n",
       "      <td>...</td>\n",
       "    </tr>\n",
       "    <tr>\n",
       "      <th>475</th>\n",
       "      <td>2_0_1455_0.5.jpg</td>\n",
       "      <td>2</td>\n",
       "      <td>0</td>\n",
       "      <td>0</td>\n",
       "      <td>[2, 0, 1455, 0.5]</td>\n",
       "      <td>2</td>\n",
       "      <td>0.5</td>\n",
       "    </tr>\n",
       "    <tr>\n",
       "      <th>476</th>\n",
       "      <td>1_0_109_0.5.jpg</td>\n",
       "      <td>0</td>\n",
       "      <td>0</td>\n",
       "      <td>1</td>\n",
       "      <td>[1, 0, 109, 0.5]</td>\n",
       "      <td>1</td>\n",
       "      <td>0.5</td>\n",
       "    </tr>\n",
       "    <tr>\n",
       "      <th>477</th>\n",
       "      <td>3_0_374_1.jpg</td>\n",
       "      <td>1</td>\n",
       "      <td>1</td>\n",
       "      <td>1</td>\n",
       "      <td>[3, 0, 374, 1]</td>\n",
       "      <td>3</td>\n",
       "      <td>1</td>\n",
       "    </tr>\n",
       "    <tr>\n",
       "      <th>478</th>\n",
       "      <td>2_0_240_0.5.jpg</td>\n",
       "      <td>2</td>\n",
       "      <td>2</td>\n",
       "      <td>1</td>\n",
       "      <td>[2, 0, 240, 0.5]</td>\n",
       "      <td>2</td>\n",
       "      <td>0.5</td>\n",
       "    </tr>\n",
       "    <tr>\n",
       "      <th>479</th>\n",
       "      <td>2_0_112_0.5.jpg</td>\n",
       "      <td>2</td>\n",
       "      <td>2</td>\n",
       "      <td>1</td>\n",
       "      <td>[2, 0, 112, 0.5]</td>\n",
       "      <td>2</td>\n",
       "      <td>0.5</td>\n",
       "    </tr>\n",
       "  </tbody>\n",
       "</table>\n",
       "<p>480 rows × 7 columns</p>\n",
       "</div>"
      ],
      "text/plain": [
       "       all_files_name  all_batch_labels  val_preds_idx  correct_response  \\\n",
       "0    2_0_1315_0.5.jpg                 2              1                 0   \n",
       "1     2_0_435_0.5.jpg                 2              0                 0   \n",
       "2       2_0_319_0.jpg                 2              2                 1   \n",
       "3       3_0_929_0.jpg                 1              2                 0   \n",
       "4     3_0_660_0.5.jpg                 1              1                 1   \n",
       "..                ...               ...            ...               ...   \n",
       "475  2_0_1455_0.5.jpg                 2              0                 0   \n",
       "476   1_0_109_0.5.jpg                 0              0                 1   \n",
       "477     3_0_374_1.jpg                 1              1                 1   \n",
       "478   2_0_240_0.5.jpg                 2              2                 1   \n",
       "479   2_0_112_0.5.jpg                 2              2                 1   \n",
       "\n",
       "          split_values  even_num noise  \n",
       "0    [2, 0, 1315, 0.5]         2   0.5  \n",
       "1     [2, 0, 435, 0.5]         2   0.5  \n",
       "2       [2, 0, 319, 0]         2     0  \n",
       "3       [3, 0, 929, 0]         3     0  \n",
       "4     [3, 0, 660, 0.5]         3   0.5  \n",
       "..                 ...       ...   ...  \n",
       "475  [2, 0, 1455, 0.5]         2   0.5  \n",
       "476   [1, 0, 109, 0.5]         1   0.5  \n",
       "477     [3, 0, 374, 1]         3     1  \n",
       "478   [2, 0, 240, 0.5]         2   0.5  \n",
       "479   [2, 0, 112, 0.5]         2   0.5  \n",
       "\n",
       "[480 rows x 7 columns]"
      ]
     },
     "execution_count": 19,
     "metadata": {},
     "output_type": "execute_result"
    }
   ],
   "source": [
    "df"
   ]
  },
  {
   "cell_type": "code",
   "execution_count": 20,
   "id": "a5ad916b-b8e6-4f1f-807a-785a2bacb80d",
   "metadata": {},
   "outputs": [],
   "source": [
    "# 去掉 .jpg 后缀并以 '_' 分割字符串\n",
    "df['split_values'] = df['all_files_name'].str.replace('.jpg', '').str.split('_')\n",
    "\n",
    "# 获取第一个数字作为 even_num 列的值\n",
    "df['even_num'] = df['split_values'].str[0]\n",
    "\n",
    "# 获取最后一个数字作为 noise 列的值\n",
    "df['noise'] = df['split_values'].str[-1]\n",
    "\n",
    "# 将字符串类型的数字转换为整数\n",
    "df['even_num'] = df['even_num'].astype(int)\n",
    "df['noise'] = df['noise']\n",
    "\n",
    "# 删除临时的 split_values 列\n",
    "df = df.drop(columns=['split_values'])"
   ]
  },
  {
   "cell_type": "code",
   "execution_count": 21,
   "id": "ec313649-66fa-4d5b-95a1-b30a3e3375d6",
   "metadata": {},
   "outputs": [
    {
     "data": {
      "text/html": [
       "<div>\n",
       "<style scoped>\n",
       "    .dataframe tbody tr th:only-of-type {\n",
       "        vertical-align: middle;\n",
       "    }\n",
       "\n",
       "    .dataframe tbody tr th {\n",
       "        vertical-align: top;\n",
       "    }\n",
       "\n",
       "    .dataframe thead th {\n",
       "        text-align: right;\n",
       "    }\n",
       "</style>\n",
       "<table border=\"1\" class=\"dataframe\">\n",
       "  <thead>\n",
       "    <tr style=\"text-align: right;\">\n",
       "      <th></th>\n",
       "      <th>all_files_name</th>\n",
       "      <th>all_batch_labels</th>\n",
       "      <th>val_preds_idx</th>\n",
       "      <th>correct_response</th>\n",
       "      <th>even_num</th>\n",
       "      <th>noise</th>\n",
       "    </tr>\n",
       "  </thead>\n",
       "  <tbody>\n",
       "    <tr>\n",
       "      <th>0</th>\n",
       "      <td>2_0_1315_0.5.jpg</td>\n",
       "      <td>2</td>\n",
       "      <td>1</td>\n",
       "      <td>0</td>\n",
       "      <td>2</td>\n",
       "      <td>0.5</td>\n",
       "    </tr>\n",
       "    <tr>\n",
       "      <th>1</th>\n",
       "      <td>2_0_435_0.5.jpg</td>\n",
       "      <td>2</td>\n",
       "      <td>0</td>\n",
       "      <td>0</td>\n",
       "      <td>2</td>\n",
       "      <td>0.5</td>\n",
       "    </tr>\n",
       "    <tr>\n",
       "      <th>2</th>\n",
       "      <td>2_0_319_0.jpg</td>\n",
       "      <td>2</td>\n",
       "      <td>2</td>\n",
       "      <td>1</td>\n",
       "      <td>2</td>\n",
       "      <td>0</td>\n",
       "    </tr>\n",
       "    <tr>\n",
       "      <th>3</th>\n",
       "      <td>3_0_929_0.jpg</td>\n",
       "      <td>1</td>\n",
       "      <td>2</td>\n",
       "      <td>0</td>\n",
       "      <td>3</td>\n",
       "      <td>0</td>\n",
       "    </tr>\n",
       "    <tr>\n",
       "      <th>4</th>\n",
       "      <td>3_0_660_0.5.jpg</td>\n",
       "      <td>1</td>\n",
       "      <td>1</td>\n",
       "      <td>1</td>\n",
       "      <td>3</td>\n",
       "      <td>0.5</td>\n",
       "    </tr>\n",
       "    <tr>\n",
       "      <th>...</th>\n",
       "      <td>...</td>\n",
       "      <td>...</td>\n",
       "      <td>...</td>\n",
       "      <td>...</td>\n",
       "      <td>...</td>\n",
       "      <td>...</td>\n",
       "    </tr>\n",
       "    <tr>\n",
       "      <th>475</th>\n",
       "      <td>2_0_1455_0.5.jpg</td>\n",
       "      <td>2</td>\n",
       "      <td>0</td>\n",
       "      <td>0</td>\n",
       "      <td>2</td>\n",
       "      <td>0.5</td>\n",
       "    </tr>\n",
       "    <tr>\n",
       "      <th>476</th>\n",
       "      <td>1_0_109_0.5.jpg</td>\n",
       "      <td>0</td>\n",
       "      <td>0</td>\n",
       "      <td>1</td>\n",
       "      <td>1</td>\n",
       "      <td>0.5</td>\n",
       "    </tr>\n",
       "    <tr>\n",
       "      <th>477</th>\n",
       "      <td>3_0_374_1.jpg</td>\n",
       "      <td>1</td>\n",
       "      <td>1</td>\n",
       "      <td>1</td>\n",
       "      <td>3</td>\n",
       "      <td>1</td>\n",
       "    </tr>\n",
       "    <tr>\n",
       "      <th>478</th>\n",
       "      <td>2_0_240_0.5.jpg</td>\n",
       "      <td>2</td>\n",
       "      <td>2</td>\n",
       "      <td>1</td>\n",
       "      <td>2</td>\n",
       "      <td>0.5</td>\n",
       "    </tr>\n",
       "    <tr>\n",
       "      <th>479</th>\n",
       "      <td>2_0_112_0.5.jpg</td>\n",
       "      <td>2</td>\n",
       "      <td>2</td>\n",
       "      <td>1</td>\n",
       "      <td>2</td>\n",
       "      <td>0.5</td>\n",
       "    </tr>\n",
       "  </tbody>\n",
       "</table>\n",
       "<p>480 rows × 6 columns</p>\n",
       "</div>"
      ],
      "text/plain": [
       "       all_files_name  all_batch_labels  val_preds_idx  correct_response  \\\n",
       "0    2_0_1315_0.5.jpg                 2              1                 0   \n",
       "1     2_0_435_0.5.jpg                 2              0                 0   \n",
       "2       2_0_319_0.jpg                 2              2                 1   \n",
       "3       3_0_929_0.jpg                 1              2                 0   \n",
       "4     3_0_660_0.5.jpg                 1              1                 1   \n",
       "..                ...               ...            ...               ...   \n",
       "475  2_0_1455_0.5.jpg                 2              0                 0   \n",
       "476   1_0_109_0.5.jpg                 0              0                 1   \n",
       "477     3_0_374_1.jpg                 1              1                 1   \n",
       "478   2_0_240_0.5.jpg                 2              2                 1   \n",
       "479   2_0_112_0.5.jpg                 2              2                 1   \n",
       "\n",
       "     even_num noise  \n",
       "0           2   0.5  \n",
       "1           2   0.5  \n",
       "2           2     0  \n",
       "3           3     0  \n",
       "4           3   0.5  \n",
       "..        ...   ...  \n",
       "475         2   0.5  \n",
       "476         1   0.5  \n",
       "477         3     1  \n",
       "478         2   0.5  \n",
       "479         2   0.5  \n",
       "\n",
       "[480 rows x 6 columns]"
      ]
     },
     "execution_count": 21,
     "metadata": {},
     "output_type": "execute_result"
    }
   ],
   "source": [
    "df"
   ]
  },
  {
   "cell_type": "code",
   "execution_count": 22,
   "id": "0db1cd6c-1518-4144-91c6-064587c294d0",
   "metadata": {},
   "outputs": [],
   "source": [
    "grouped = df[['even_num', 'noise', 'correct_response']].groupby(['even_num', 'noise']).mean()['correct_response']\n"
   ]
  },
  {
   "cell_type": "code",
   "execution_count": 23,
   "id": "58dc62c6-6aa4-4d24-a48b-cb485ca7128c",
   "metadata": {},
   "outputs": [
    {
     "data": {
      "image/png": "[encoded data removed]",
      "text/plain": [
       "<Figure size 720x432 with 1 Axes>"
      ]
     },
     "metadata": {
      "needs_background": "light"
     },
     "output_type": "display_data"
    }
   ],
   "source": [
    "grouped.unstack().plot(kind='line', marker='o', figsize=(10, 6))\n",
    "plt.title('Correct Response Rate by even_num and noise')\n",
    "plt.xlabel('even_num')\n",
    "plt.ylabel('Correct Response Rate')\n",
    "plt.legend(title='noise')\n",
    "plt.xticks(rotation=0)\n",
    "plt.grid(True)\n",
    "plt.show()"
   ]
  },
  {
   "cell_type": "code",
   "execution_count": null,
   "id": "18d121b7-7c62-4926-8721-5ea65fe1b179",
   "metadata": {},
   "outputs": [
    {
     "data": {
      "image/png": "[encoded data removed]",
      "text/plain": [
       "<Figure size 720x432 with 1 Axes>"
      ]
     },
     "metadata": {
      "needs_background": "light"
     },
     "output_type": "display_data"
    }
   ],
   "source": [
    "grouped.unstack().T.plot(kind='line', marker='o', figsize=(10, 6))  # 使用.T转置将even_num放在y轴\n",
    "plt.title('Correct Response Rate by noise and even_num')\n",
    "plt.xlabel('noise')\n",
    "plt.ylabel('Correct Response Rate')\n",
    "plt.legend(title='even_num')\n",
    "plt.xticks(rotation=0)\n",
    "plt.grid(True)\n",
    "plt.show()"
   ]
  },
  {
   "cell_type": "code",
   "execution_count": null,
   "id": "33cc4890-e526-4c15-9cd0-34d899c28a96",
   "metadata": {},
   "outputs": [],
   "source": []
  }
 ],
 "metadata": {
  "kernelspec": {
   "display_name": "Python 3 (ipykernel)",
   "language": "python",
   "name": "python3"
  },
  "language_info": {
   "codemirror_mode": {
    "name": "ipython",
    "version": 3
   },
   "file_extension": ".py",
   "mimetype": "text/x-python",
   "name": "python",
   "nbconvert_exporter": "python",
   "pygments_lexer": "ipython3",
   "version": "3.8.16"
  }
 },
 "nbformat": 4,
 "nbformat_minor": 5
}
