{
 "cells": [
  {
   "cell_type": "code",
   "execution_count": 1,
   "id": "0c3e9f6d-9f2f-4af1-ac27-063602b8ffbc",
   "metadata": {},
   "outputs": [
    {
     "data": {
      "text/plain": [
       "'/Users/zhengyuanrui/Desktop/ensemble/script'"
      ]
     },
     "execution_count": 1,
     "metadata": {},
     "output_type": "execute_result"
    }
   ],
   "source": [
    "import os\n",
    "os.getcwd()"
   ]
  },
  {
   "cell_type": "code",
   "execution_count": 2,
   "id": "f89df4ea-1669-4a8e-8b44-cc07779b4bb9",
   "metadata": {},
   "outputs": [],
   "source": [
    "batch_size=32\n",
    "epochs = 5"
   ]
  },
  {
   "cell_type": "code",
   "execution_count": 3,
   "id": "cdce49ba-7165-425d-bfd8-41b42b7cfe91",
   "metadata": {},
   "outputs": [],
   "source": [
    "import numpy as np\n",
    "import torch\n",
    "from torchvision import transforms, datasets, models\n",
    "from torch.utils.data import DataLoader, Dataset,TensorDataset\n",
    "from torch import nn\n",
    "import torch.optim as optim\n",
    "from sklearn.metrics import roc_auc_score, accuracy_score\n",
    "import torch.nn.functional as F\n",
    "import tqdm\n",
    "import math\n",
    "from Model import *\n",
    "from Myloader import *\n",
    "from Training import *\n",
    "import matplotlib.pyplot as plt\n"
   ]
  },
  {
   "cell_type": "code",
   "execution_count": 4,
   "id": "af1af849-fffc-4a59-9607-c3fc3fc10fe5",
   "metadata": {},
   "outputs": [],
   "source": [
    "device = torch.device('cuda:0' if torch.cuda.is_available() else 'cpu')"
   ]
  },
  {
   "cell_type": "code",
   "execution_count": 5,
   "id": "45d5542a-5f23-455a-b6d0-0b5b4508e680",
   "metadata": {},
   "outputs": [],
   "source": [
    "test_path = \"../data/test\"\n",
    "val_path = \"../data/validation\"\n",
    "train_path = \"../data/train\""
   ]
  },
  {
   "cell_type": "code",
   "execution_count": 6,
   "id": "dd2358bb-238b-4d78-a37f-5f9d57f802d3",
   "metadata": {},
   "outputs": [],
   "source": [
    "# transform=transforms.Compose([transforms.Grayscale(num_output_channels=1),transforms.ToTensor()])"
   ]
  },
  {
   "cell_type": "code",
   "execution_count": 7,
   "id": "697980da-02f3-4149-ada0-838ddc686b21",
   "metadata": {},
   "outputs": [],
   "source": [
    "# test = datasets.ImageFolder(root=test_path, transform=transform) #, target_transform=lambda x: custom_target_transform(test.classes[x])\n",
    "# test_loader = DataLoader(test, batch_size, shuffle=False)\n",
    "# val = datasets.ImageFolder(root=val_path, transform=transform)\n",
    "# val_loader = DataLoader(val, batch_size, shuffle=False)\n",
    "# train = datasets.ImageFolder(root=train_path, transform=transform)\n",
    "# train_loader = DataLoader(train, batch_size, shuffle=True)\n",
    "# from Myloader import data_loader\n",
    "train_dataloader, num_train = data_loader(train_path, batch_size, drop_last=False, shuffle=True)\n",
    "val_dataloader, num_val = data_loader(val_path, batch_size, drop_last=False, shuffle=True)\n",
    "test_dataloader, num_test = data_loader(test_path, batch_size, drop_last=False, shuffle=False)\n"
   ]
  },
  {
   "cell_type": "code",
   "execution_count": 8,
   "id": "f9397ee4-57fa-48f5-bd4a-954211f0e71b",
   "metadata": {},
   "outputs": [
    {
     "name": "stdout",
     "output_type": "stream",
     "text": [
      "Feature batch shape: torch.Size([32, 1, 56, 56])\n",
      "Labels batch shape: torch.Size([32])\n"
     ]
    },
    {
     "data": {
      "image/png": "[encoded data removed]",
      "text/plain": [
       "<Figure size 640x480 with 1 Axes>"
      ]
     },
     "metadata": {},
     "output_type": "display_data"
    },
    {
     "name": "stdout",
     "output_type": "stream",
     "text": [
      "Label: 1\n"
     ]
    }
   ],
   "source": [
    "# Display image and label.\n",
    "test_features, test_labels = next(iter(train_dataloader))\n",
    "print(f\"Feature batch shape: {test_features.size()}\")\n",
    "print(f\"Labels batch shape: {test_labels.size()}\")\n",
    "img = test_features[5].squeeze()\n",
    "label = test_labels[5]\n",
    "plt.imshow(img)\n",
    "plt.show()\n",
    "print(f\"Label: {label}\")"
   ]
  },
  {
   "cell_type": "code",
   "execution_count": 9,
   "id": "3564e24e-a3f0-4d5a-b25f-692ca5488ff0",
   "metadata": {},
   "outputs": [],
   "source": [
    "model = MyResNet(dropout_prob=0.5).to(device)"
   ]
  },
  {
   "cell_type": "code",
   "execution_count": 10,
   "id": "9c69a0b2-dbd1-4973-b719-e61bf66de5b3",
   "metadata": {},
   "outputs": [],
   "source": [
    "optimizer = torch.optim.Adam(model.parameters(), 1e-3, betas = (0.9, 0.999))"
   ]
  },
  {
   "cell_type": "code",
   "execution_count": 11,
   "id": "938e8414",
   "metadata": {},
   "outputs": [
    {
     "name": "stderr",
     "output_type": "stream",
     "text": [
      "Progress of epochs:  20%|██        | 1/5 [00:22<01:29, 22.43s/it]"
     ]
    },
    {
     "name": "stdout",
     "output_type": "stream",
     "text": [
      "Epoch [1/5], Train Loss: 0.3678, Val Loss: 0.6445, Val Acc: 0.7475, Val ROC AUC: 0.7405\n"
     ]
    },
    {
     "name": "stderr",
     "output_type": "stream",
     "text": [
      "Progress of epochs:  40%|████      | 2/5 [00:46<01:10, 23.57s/it]"
     ]
    },
    {
     "name": "stdout",
     "output_type": "stream",
     "text": [
      "Epoch [2/5], Train Loss: 0.1094, Val Loss: 0.1741, Val Acc: 0.9331, Val ROC AUC: 0.9312\n"
     ]
    },
    {
     "name": "stderr",
     "output_type": "stream",
     "text": [
      "Progress of epochs:  60%|██████    | 3/5 [01:10<00:47, 23.50s/it]"
     ]
    },
    {
     "name": "stdout",
     "output_type": "stream",
     "text": [
      "Epoch [3/5], Train Loss: 0.0644, Val Loss: 0.0492, Val Acc: 0.9832, Val ROC AUC: 0.9831\n"
     ]
    },
    {
     "name": "stderr",
     "output_type": "stream",
     "text": [
      "Progress of epochs:  80%|████████  | 4/5 [01:34<00:23, 23.97s/it]"
     ]
    },
    {
     "name": "stdout",
     "output_type": "stream",
     "text": [
      "Epoch [4/5], Train Loss: 0.0555, Val Loss: 0.0439, Val Acc: 0.9824, Val ROC AUC: 0.9826\n"
     ]
    },
    {
     "name": "stderr",
     "output_type": "stream",
     "text": [
      "Progress of epochs: 100%|██████████| 5/5 [01:57<00:00, 23.52s/it]"
     ]
    },
    {
     "name": "stdout",
     "output_type": "stream",
     "text": [
      "Epoch [5/5], Train Loss: 0.0440, Val Loss: 0.0563, Val Acc: 0.9824, Val ROC AUC: 0.9819\n"
     ]
    },
    {
     "name": "stderr",
     "output_type": "stream",
     "text": [
      "\n"
     ]
    }
   ],
   "source": [
    "train_loss, val_loss, val_acc, val_roc, model = model_training(epochs=5, model=model, train_loader=train_dataloader, val_loader=val_dataloader, optimizer=optimizer, device=device, loss_fun=F.binary_cross_entropy_with_logits)"
   ]
  },
  {
   "cell_type": "code",
   "execution_count": null,
   "id": "a8ea4dca",
   "metadata": {},
   "outputs": [],
   "source": []
  }
 ],
 "metadata": {
  "kernelspec": {
   "display_name": "Python 3 (ipykernel)",
   "language": "python",
   "name": "python3"
  },
  "language_info": {
   "codemirror_mode": {
    "name": "ipython",
    "version": 3
   },
   "file_extension": ".py",
   "mimetype": "text/x-python",
   "name": "python",
   "nbconvert_exporter": "python",
   "pygments_lexer": "ipython3",
   "version": "3.8.19"
  }
 },
 "nbformat": 4,
 "nbformat_minor": 5
}
