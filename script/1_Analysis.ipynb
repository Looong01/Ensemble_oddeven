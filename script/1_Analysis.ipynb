{
 "cells": [
  {
   "cell_type": "code",
   "execution_count": 1,
   "id": "0c3e9f6d-9f2f-4af1-ac27-063602b8ffbc",
   "metadata": {},
   "outputs": [
    {
     "data": {
      "text/plain": [
       "'/Users/zhengyuanrui/Ensemble_oddeven/script'"
      ]
     },
     "execution_count": 1,
     "metadata": {},
     "output_type": "execute_result"
    }
   ],
   "source": [
    "import os\n",
    "os.getcwd()"
   ]
  },
  {
   "cell_type": "code",
   "execution_count": 2,
   "id": "f89df4ea-1669-4a8e-8b44-cc07779b4bb9",
   "metadata": {},
   "outputs": [],
   "source": [
    "batch_size=32\n",
    "epochs = 5"
   ]
  },
  {
   "cell_type": "code",
   "execution_count": 3,
   "id": "cdce49ba-7165-425d-bfd8-41b42b7cfe91",
   "metadata": {},
   "outputs": [],
   "source": [
    "import numpy as np\n",
    "import torch\n",
    "from torchvision import transforms, datasets, models\n",
    "from torch.utils.data import DataLoader, Dataset,TensorDataset\n",
    "from torch import nn\n",
    "import torch.optim as optim\n",
    "from sklearn.metrics import roc_auc_score, accuracy_score\n",
    "import torch.nn.functional as F\n",
    "import tqdm\n",
    "import math\n",
    "from Model import *\n",
    "from Training import *\n",
    "from utils import *\n",
    "import matplotlib.pyplot as plt\n",
    "from Mydataloader import *\n"
   ]
  },
  {
   "cell_type": "code",
   "execution_count": 4,
   "id": "af1af849-fffc-4a59-9607-c3fc3fc10fe5",
   "metadata": {},
   "outputs": [],
   "source": [
    "device = torch.device('cuda:0' if torch.cuda.is_available() else 'cpu')"
   ]
  },
  {
   "cell_type": "code",
   "execution_count": 5,
   "id": "45d5542a-5f23-455a-b6d0-0b5b4508e680",
   "metadata": {},
   "outputs": [],
   "source": [
    "test_path = \"../data/test\""
   ]
  },
  {
   "cell_type": "code",
   "execution_count": 6,
   "id": "dd2358bb-238b-4d78-a37f-5f9d57f802d3",
   "metadata": {},
   "outputs": [],
   "source": [
    "# transform=transforms.Compose([transforms.Grayscale(num_output_channels=1),transforms.ToTensor()])"
   ]
  },
  {
   "cell_type": "code",
   "execution_count": 7,
   "id": "cee90949",
   "metadata": {},
   "outputs": [],
   "source": [
    "transform = transforms.Compose([\n",
    "    transforms.ToPILImage(),\n",
    "    transforms.Grayscale(num_output_channels=1),\n",
    "    transforms.ToTensor()])"
   ]
  },
  {
   "cell_type": "code",
   "execution_count": 8,
   "id": "1099d67a",
   "metadata": {},
   "outputs": [],
   "source": [
    "\n",
    "custom_dataset = MyDataset(test_path, 8000, transform=transform)\n",
    "data_loader = DataLoader(custom_dataset, batch_size=5, shuffle=True)"
   ]
  },
  {
   "cell_type": "code",
   "execution_count": 9,
   "id": "0e46bce5",
   "metadata": {},
   "outputs": [
    {
     "name": "stdout",
     "output_type": "stream",
     "text": [
      "torch.Size([5, 1, 56, 56])\n",
      "torch.Size([5, 1, 56, 56])\n",
      "tensor([1.0000, 0.5000, 0.5000, 1.0000, 0.0000], dtype=torch.float64)\n",
      "tensor([0.5000, 1.0000, 0.0000, 0.5000, 0.5000], dtype=torch.float64)\n",
      "tensor([0, 1, 1, 0, 0])\n",
      "('3', '2', '2', '3', '1')\n",
      "('2', '3', '1', '2', '2')\n"
     ]
    }
   ],
   "source": [
    "img1, img2, img1_label, img2_label, meta_label, even_num1, even_num2 = next(iter(data_loader))\n",
    "print(img1.shape)\n",
    "print(img2.shape)\n",
    "print(img1_label)\n",
    "print(img2_label)\n",
    "print(meta_label)\n",
    "print(even_num1)\n",
    "print(even_num2)"
   ]
  },
  {
   "cell_type": "code",
   "execution_count": 10,
   "id": "09f633f6",
   "metadata": {},
   "outputs": [],
   "source": [
    "def show_images_labels(img1, img2, img1_label, img2_label, meta_label):\n",
    "    for i in range(img1.shape[0]):\n",
    "        fig, axs = plt.subplots(1, 2, figsize=(4, 2))  # 创建包含两个子图的图形窗口\n",
    "        axs[0].imshow(img1[i].squeeze(), cmap='gray')\n",
    "        axs[0].set_title(f\"Category:{int(img1_label[i])}\")\n",
    "        axs[1].imshow(img2[i].squeeze(), cmap='gray')\n",
    "        axs[1].set_title(f\"Category:{int(img2_label[i])}\")\n",
    "\n",
    "        fig.suptitle(f\"Meta: {int(meta_label[i])}\")  # 在两个子图中间添加标题\n"
   ]
  },
  {
   "cell_type": "code",
   "execution_count": null,
   "id": "b44f6f2e",
   "metadata": {},
   "outputs": [],
   "source": [
    "show_images_labels(img1, img2, img1_label, img2_label, meta_label)"
   ]
  },
  {
   "cell_type": "code",
   "execution_count": null,
   "id": "834808f7-106a-4fbe-a9be-38fa0ba3d758",
   "metadata": {},
   "outputs": [],
   "source": [
    "decision_model = CNN()\n",
    "decision_model.load_state_dict(torch.load(\"../model/classifier.pt\"))\n",
    "decision_model.to(device)\n",
    "decision_model.eval()"
   ]
  },
  {
   "cell_type": "code",
   "execution_count": null,
   "id": "f6ef9053-8137-4007-b96b-26b965944087",
   "metadata": {},
   "outputs": [],
   "source": [
    "confidence_model = Confidence(6, 1)\n",
    "confidence_model.load_state_dict(torch.load(\"../model/meta.pt\"))\n",
    "confidence_model.to(device)\n",
    "confidence_model.eval()"
   ]
  },
  {
   "cell_type": "code",
   "execution_count": null,
   "id": "7fcb4bf1-1e59-499d-b109-211c97c5055b",
   "metadata": {},
   "outputs": [],
   "source": [
    "data1 = images_all[0].to(device)\n",
    "data2 = images_all[1].to(device)\n",
    "label1 = category_label[0].to(device)\n",
    "label2 = category_label[1].to(device)\n",
    "label3 = info_label.to(device)"
   ]
  },
  {
   "cell_type": "code",
   "execution_count": null,
   "id": "c30beb39-4f8e-4b8c-b1cb-6ce416deb347",
   "metadata": {},
   "outputs": [],
   "source": [
    "y_hat1 = decision_model(data1)\n",
    "y_hat2 = decision_model(data2)\n",
    "combined_output = torch.cat((y_hat1, y_hat2), dim=1)\n",
    "y_hat3 = confidence_model(combined_output).squeeze()\n",
    "y_hat3_sig = torch.sigmoid(y_hat3)"
   ]
  },
  {
   "cell_type": "code",
   "execution_count": 1,
   "id": "47207308-dd58-4085-b14d-f95e219b7d87",
   "metadata": {},
   "outputs": [],
   "source": [
    "all_labels1 = [1, 0.5, 0]\n",
    "all_preds1 = [0.1, 0.2, 0.3]\n",
    "\n",
    "indices_to_remove = [i for i, label in enumerate(all_labels1) if label == 0.5]\n",
    "\n",
    "# 删除对应索引位置的元素\n",
    "for index in sorted(indices_to_remove, reverse=True):\n",
    "    del all_labels1[index]\n",
    "    del all_preds1[index]"
   ]
  },
  {
   "cell_type": "code",
   "execution_count": 2,
   "id": "52b108ad",
   "metadata": {},
   "outputs": [
    {
     "data": {
      "text/plain": [
       "[0.1, 0.3]"
      ]
     },
     "execution_count": 2,
     "metadata": {},
     "output_type": "execute_result"
    }
   ],
   "source": [
    "all_preds1"
   ]
  },
  {
   "cell_type": "code",
   "execution_count": null,
   "id": "c31773c1",
   "metadata": {},
   "outputs": [],
   "source": []
  }
 ],
 "metadata": {
  "kernelspec": {
   "display_name": "Python 3 (ipykernel)",
   "language": "python",
   "name": "python3"
  },
  "language_info": {
   "codemirror_mode": {
    "name": "ipython",
    "version": 3
   },
   "file_extension": ".py",
   "mimetype": "text/x-python",
   "name": "python",
   "nbconvert_exporter": "python",
   "pygments_lexer": "ipython3",
   "version": "3.8.19"
  }
 },
 "nbformat": 4,
 "nbformat_minor": 5
}
