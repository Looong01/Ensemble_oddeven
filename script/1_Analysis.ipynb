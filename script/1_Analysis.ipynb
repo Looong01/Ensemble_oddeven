{
 "cells": [
  {
   "cell_type": "code",
   "execution_count": 1,
   "id": "0c3e9f6d-9f2f-4af1-ac27-063602b8ffbc",
   "metadata": {},
   "outputs": [
    {
     "data": {
      "text/plain": [
       "'/Users/zhengyuanrui/Ensemble_oddeven/script'"
      ]
     },
     "execution_count": 1,
     "metadata": {},
     "output_type": "execute_result"
    }
   ],
   "source": [
    "import os\n",
    "os.getcwd()"
   ]
  },
  {
   "cell_type": "code",
   "execution_count": 2,
   "id": "f89df4ea-1669-4a8e-8b44-cc07779b4bb9",
   "metadata": {},
   "outputs": [],
   "source": [
    "batch_size=32\n",
    "epochs = 5"
   ]
  },
  {
   "cell_type": "code",
   "execution_count": 3,
   "id": "cdce49ba-7165-425d-bfd8-41b42b7cfe91",
   "metadata": {},
   "outputs": [],
   "source": [
    "import numpy as np\n",
    "import torch\n",
    "from torchvision import transforms, datasets, models\n",
    "from torch.utils.data import DataLoader, Dataset,TensorDataset\n",
    "from torch import nn\n",
    "import torch.optim as optim\n",
    "from sklearn.metrics import roc_auc_score, accuracy_score\n",
    "import torch.nn.functional as F\n",
    "import tqdm\n",
    "import math\n",
    "from Model import *\n",
    "from Myloader import *\n",
    "from Training import *\n",
    "from utils import *\n",
    "from Myloader import *\n",
    "import matplotlib.pyplot as plt\n"
   ]
  },
  {
   "cell_type": "code",
   "execution_count": 4,
   "id": "af1af849-fffc-4a59-9607-c3fc3fc10fe5",
   "metadata": {},
   "outputs": [],
   "source": [
    "device = torch.device('cuda:0' if torch.cuda.is_available() else 'cpu')"
   ]
  },
  {
   "cell_type": "code",
   "execution_count": 5,
   "id": "45d5542a-5f23-455a-b6d0-0b5b4508e680",
   "metadata": {},
   "outputs": [],
   "source": [
    "test_path = \"../data/test\"\n",
    "val_path = \"../data/validation\"\n",
    "train_path = \"../data/train\""
   ]
  },
  {
   "cell_type": "code",
   "execution_count": 6,
   "id": "dd2358bb-238b-4d78-a37f-5f9d57f802d3",
   "metadata": {},
   "outputs": [],
   "source": [
    "# transform=transforms.Compose([transforms.Grayscale(num_output_channels=1),transforms.ToTensor()])"
   ]
  },
  {
   "cell_type": "code",
   "execution_count": 7,
   "id": "cee90949",
   "metadata": {},
   "outputs": [],
   "source": [
    "transform = transforms.Compose([\n",
    "    transforms.ToPILImage(),\n",
    "    transforms.Grayscale(num_output_channels=1),\n",
    "    transforms.ToTensor()])"
   ]
  },
  {
   "cell_type": "code",
   "execution_count": 8,
   "id": "1099d67a",
   "metadata": {},
   "outputs": [],
   "source": [
    "\n",
    "custom_dataset = CustomDataset(test_path, transform=transform)\n",
    "data_loader = DataLoader(custom_dataset, batch_size=32, shuffle=True)"
   ]
  },
  {
   "cell_type": "code",
   "execution_count": 19,
   "id": "4e7fd2c9",
   "metadata": {},
   "outputs": [
    {
     "name": "stdout",
     "output_type": "stream",
     "text": [
      "Feature batch shape: torch.Size([1, 56, 56])\n",
      "Labels batch shape: torch.Size([])\n"
     ]
    },
    {
     "data": {
      "image/png": "[encoded data removed]",
      "text/plain": [
       "<Figure size 640x480 with 1 Axes>"
      ]
     },
     "metadata": {},
     "output_type": "display_data"
    },
    {
     "name": "stdout",
     "output_type": "stream",
     "text": [
      "Label: 2\n",
      "idx: tensor([1, 0, 0, 0, 0, 1, 1, 1, 0, 0, 1, 1, 0, 0, 1, 0, 1, 0, 0, 0, 1, 0, 0, 1,\n",
      "        0, 0, 0, 1, 0, 0, 0, 1])\n"
     ]
    }
   ],
   "source": [
    "# Display image and label.\n",
    "images_all, category_label, info_label, idx_info = next(iter(data_loader ))\n",
    "print(f\"Feature batch shape: {images_all[1][3].size()}\")\n",
    "print(f\"Labels batch shape: {category_label[1][3].size()}\")\n",
    "img = images_all[1][3].squeeze()\n",
    "label = category_label[1][3]\n",
    "plt.imshow(img)\n",
    "plt.show()\n",
    "print(f\"Label: {label}\")\n",
    "print(f\"idx: {idx_info}\")\n"
   ]
  },
  {
   "cell_type": "code",
   "execution_count": null,
   "id": "d4647404",
   "metadata": {},
   "outputs": [],
   "source": [
    "category_label[1][1]"
   ]
  },
  {
   "cell_type": "code",
   "execution_count": null,
   "id": "697980da-02f3-4149-ada0-838ddc686b21",
   "metadata": {},
   "outputs": [],
   "source": [
    "# test = datasets.ImageFolder(root=test_path, transform=transform) #, target_transform=lambda x: custom_target_transform(test.classes[x])\n",
    "# test_loader = DataLoader(test, batch_size, shuffle=False)\n",
    "# val = datasets.ImageFolder(root=val_path, transform=transform)\n",
    "# val_loader = DataLoader(val, batch_size, shuffle=False)\n",
    "# train = datasets.ImageFolder(root=train_path, transform=transform)\n",
    "# train_loader = DataLoader(train, batch_size, shuffle=True)\n",
    "# from Myloader import data_loader\n",
    "# class_for_label = {\"same\":0.5,\"odd\":0, \"even\":1 }\n",
    "#读取数据集\n",
    "train_dataloader, num_train = data_loader(target_to_oh, train_path, batch_size=32, drop_last=False, shuffle=True)\n",
    "val_dataloader, num_val = data_loader(target_to_oh, val_path, batch_size=32, drop_last=False, shuffle=True)\n",
    "test_dataloader, num_test = data_loader(target_to_oh,test_path, batch_size=32, drop_last=False, shuffle=False)\n"
   ]
  },
  {
   "cell_type": "code",
   "execution_count": null,
   "id": "f9397ee4-57fa-48f5-bd4a-954211f0e71b",
   "metadata": {},
   "outputs": [],
   "source": [
    "# Display image and label.\n",
    "test_features, test_labels = next(iter(val_dataloader))\n",
    "print(f\"Feature batch shape: {test_features.size()}\")\n",
    "print(f\"Labels batch shape: {test_labels.size()}\")\n",
    "img = test_features[5].squeeze()\n",
    "label = test_labels[5]\n",
    "plt.imshow(img)\n",
    "plt.show()\n",
    "print(f\"Label: {label}\")"
   ]
  },
  {
   "cell_type": "code",
   "execution_count": null,
   "id": "378407e8",
   "metadata": {},
   "outputs": [],
   "source": [
    "train_dataloader.class_to_idx"
   ]
  },
  {
   "cell_type": "code",
   "execution_count": null,
   "id": "3564e24e-a3f0-4d5a-b25f-692ca5488ff0",
   "metadata": {},
   "outputs": [],
   "source": [
    "model = MyResNet(dropout_prob=0.5).to(device)"
   ]
  },
  {
   "cell_type": "code",
   "execution_count": null,
   "id": "9c69a0b2-dbd1-4973-b719-e61bf66de5b3",
   "metadata": {},
   "outputs": [],
   "source": [
    "optimizer = torch.optim.Adam(model.parameters(), 1e-3, betas = (0.9, 0.999))"
   ]
  },
  {
   "cell_type": "code",
   "execution_count": null,
   "id": "938e8414",
   "metadata": {},
   "outputs": [],
   "source": [
    "train_loss, val_loss, val_acc, val_roc, model = model_training(epochs=5, model=model, train_loader=train_dataloader, val_loader=val_dataloader, optimizer=optimizer, device=device, loss_fun=F.binary_cross_entropy_with_logits)"
   ]
  },
  {
   "cell_type": "code",
   "execution_count": null,
   "id": "a8ea4dca",
   "metadata": {},
   "outputs": [],
   "source": []
  }
 ],
 "metadata": {
  "kernelspec": {
   "display_name": "Python 3 (ipykernel)",
   "language": "python",
   "name": "python3"
  },
  "language_info": {
   "codemirror_mode": {
    "name": "ipython",
    "version": 3
   },
   "file_extension": ".py",
   "mimetype": "text/x-python",
   "name": "python",
   "nbconvert_exporter": "python",
   "pygments_lexer": "ipython3",
   "version": "3.8.19"
  }
 },
 "nbformat": 4,
 "nbformat_minor": 5
}
